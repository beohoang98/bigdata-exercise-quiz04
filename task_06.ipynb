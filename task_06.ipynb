{
 "nbformat": 4,
 "nbformat_minor": 2,
 "metadata": {
  "language_info": {
   "name": "python",
   "codemirror_mode": {
    "name": "ipython",
    "version": 3
   },
   "version": "3.7.3"
  },
  "orig_nbformat": 2,
  "file_extension": ".py",
  "mimetype": "text/x-python",
  "name": "python",
  "npconvert_exporter": "python",
  "pygments_lexer": "ipython3",
  "version": 3
 },
 "cells": [
  {
   "cell_type": "code",
   "execution_count": 1,
   "metadata": {},
   "outputs": [
    {
     "name": "stdout",
     "output_type": "stream",
     "text": "/home/noobcoder/0_Project/school/BigData/DemoNov29\n"
    }
   ],
   "source": [
    "import findspark\n",
    "findspark.init()\n",
    "\n",
    "import os\n",
    "PROJECT_HOME = os.path.abspath(os.curdir)\n",
    "print(PROJECT_HOME)\n",
    "\n",
    "import pandas as pd\n",
    "from pyspark.sql import SparkSession\n",
    "from pyspark.ml.fpm import FPGrowth\n",
    "import pyspark.sql.functions as F"
   ]
  },
  {
   "cell_type": "code",
   "execution_count": 2,
   "metadata": {},
   "outputs": [],
   "source": [
    "SPARK_MASTER_HOST = os.environ.get('SPARK_MASTER_HOST', 'localhost')\n",
    "sc = SparkSession.builder\\\n",
    "    .master(f'spark://{SPARK_MASTER_HOST}:7077')\\\n",
    "    .appName('Quiz04_6')\\\n",
    "    .config('spark.executor.memory', '512m')\\\n",
    "    .config('spark.jars', f'file://{PROJECT_HOME}/third_party/graphframes-0.7.0-spark2.4-s_2.11.jar')\\\n",
    "    .getOrCreate()"
   ]
  },
  {
   "cell_type": "markdown",
   "execution_count": null,
   "metadata": {},
   "outputs": [],
   "source": [
    "# TASK 06: Social network analysis with GraphFrame"
   ]
  },
  {
   "cell_type": "markdown",
   "execution_count": null,
   "metadata": {},
   "outputs": [],
   "source": [
    "## a. READ DATA AND CREATE GRAPHFRAME"
   ]
  },
  {
   "cell_type": "code",
   "execution_count": 3,
   "metadata": {},
   "outputs": [
    {
     "name": "stdout",
     "output_type": "stream",
     "text": "+---+-------------+---------------+\n| id|     username|           name|\n+---+-------------+---------------+\n|  1|  BarackObama|   Barack Obama|\n|  2|     ladygaga|Goddess of Love|\n|  3|      jeresig|     John Resig|\n|  4| justinbieber|  Justin Bieber|\n|  6|matei_zaharia|  Matei Zaharia|\n|  7|      odersky| Martin Odersky|\n|  8|      anonsys|           null|\n+---+-------------+---------------+\n\n"
    }
   ],
   "source": [
    "users = sc.read.csv(f'file://{PROJECT_HOME}/data/users.txt', sep=',', header=None)\n",
    "users = users.withColumnRenamed('_c0', 'id')\\\n",
    "    .withColumnRenamed('_c1', 'username')\\\n",
    "    .withColumnRenamed('_c2', 'name')\n",
    "users.show()"
   ]
  },
  {
   "cell_type": "code",
   "execution_count": 4,
   "metadata": {},
   "outputs": [],
   "source": [
    "followEdge = sc.read.csv(f'file://{PROJECT_HOME}/data/followers.txt', sep=' ', header=None)\n",
    "followEdge = followEdge.withColumnRenamed('_c0', 'src')\\\n",
    "    .withColumnRenamed('_c1', 'dst')"
   ]
  },
  {
   "cell_type": "code",
   "execution_count": 5,
   "metadata": {},
   "outputs": [],
   "source": [
    "from graphframes import GraphFrame"
   ]
  },
  {
   "cell_type": "code",
   "execution_count": 6,
   "metadata": {},
   "outputs": [],
   "source": [
    "g = GraphFrame(users, followEdge)"
   ]
  },
  {
   "cell_type": "markdown",
   "execution_count": null,
   "metadata": {},
   "outputs": [],
   "source": [
    "## b. SOME BASIC ANALYST"
   ]
  },
  {
   "cell_type": "markdown",
   "execution_count": null,
   "metadata": {},
   "outputs": [],
   "source": [
    "### 1. In Degrees"
   ]
  },
  {
   "cell_type": "code",
   "execution_count": 7,
   "metadata": {},
   "outputs": [
    {
     "name": "stdout",
     "output_type": "stream",
     "text": "+---+--------+---+-------------+---------------+\n| id|inDegree| id|     username|           name|\n+---+--------+---+-------------+---------------+\n|  7|       2|  7|      odersky| Martin Odersky|\n|  3|       2|  3|      jeresig|     John Resig|\n|  1|       2|  1|  BarackObama|   Barack Obama|\n|  2|       1|  2|     ladygaga|Goddess of Love|\n|  6|       1|  6|matei_zaharia|  Matei Zaharia|\n+---+--------+---+-------------+---------------+\n\n"
    }
   ],
   "source": [
    "in_degrees = g.inDegrees.alias('ind')\n",
    "in_degrees\\\n",
    "    .join(users.alias('u'), F.col('ind.id') == F.col('u.id'))\\\n",
    "    .sort(F.col('inDegree').desc())\\\n",
    "    .show()"
   ]
  },
  {
   "cell_type": "markdown",
   "execution_count": null,
   "metadata": {},
   "outputs": [],
   "source": [
    "### 2. Out Degrees"
   ]
  },
  {
   "cell_type": "code",
   "execution_count": 8,
   "metadata": {},
   "outputs": [
    {
     "name": "stdout",
     "output_type": "stream",
     "text": "+---+---------+---+-------------+---------------+\n| id|outDegree| id|     username|           name|\n+---+---------+---+-------------+---------------+\n|  7|        2|  7|      odersky| Martin Odersky|\n|  6|        2|  6|matei_zaharia|  Matei Zaharia|\n|  1|        1|  1|  BarackObama|   Barack Obama|\n|  2|        1|  2|     ladygaga|Goddess of Love|\n|  4|        1|  4| justinbieber|  Justin Bieber|\n|  3|        1|  3|      jeresig|     John Resig|\n+---+---------+---+-------------+---------------+\n\n"
    }
   ],
   "source": [
    "out_degrees = g.outDegrees.alias('oud')\n",
    "out_degrees\\\n",
    "    .join(users.alias('u'), F.col('u.id') == F.col('oud.id'))\\\n",
    "    .sort(F.col('outDegree').desc())\\\n",
    "    .show()"
   ]
  },
  {
   "cell_type": "markdown",
   "execution_count": null,
   "metadata": {},
   "outputs": [],
   "source": [
    "### 3. PAGE RANK"
   ]
  },
  {
   "cell_type": "code",
   "execution_count": 9,
   "metadata": {},
   "outputs": [],
   "source": [
    "pageRank = g.pageRank(resetProbability=0.01, maxIter=20)"
   ]
  },
  {
   "cell_type": "code",
   "execution_count": 10,
   "metadata": {},
   "outputs": [
    {
     "name": "stdout",
     "output_type": "stream",
     "text": "+---+-------------+---------------+--------------------+\n| id|     username|           name|            pagerank|\n+---+-------------+---------------+--------------------+\n|  2|     ladygaga|Goddess of Love|  2.2122923333429894|\n|  7|      odersky| Martin Odersky|  1.5503700407060304|\n|  1|  BarackObama|   Barack Obama|  1.2702367847934501|\n|  3|      jeresig|     John Resig|  1.1647254575707153|\n|  6|matei_zaharia|  Matei Zaharia|  0.7790808744354002|\n|  8|      anonsys|           null|0.011647254575707157|\n|  4| justinbieber|  Justin Bieber|0.011647254575707157|\n+---+-------------+---------------+--------------------+\n\n"
    }
   ],
   "source": [
    "pageRank.vertices.orderBy(F.col('pagerank').desc()).show()"
   ]
  }
 ]
}