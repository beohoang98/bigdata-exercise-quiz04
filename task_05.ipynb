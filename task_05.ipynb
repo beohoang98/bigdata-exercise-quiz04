{
 "nbformat": 4,
 "nbformat_minor": 2,
 "metadata": {
  "language_info": {
   "name": "python",
   "codemirror_mode": {
    "name": "ipython",
    "version": 3
   },
   "version": "3.7.3"
  },
  "orig_nbformat": 2,
  "file_extension": ".py",
  "mimetype": "text/x-python",
  "name": "python",
  "npconvert_exporter": "python",
  "pygments_lexer": "ipython3",
  "version": 3
 },
 "cells": [
  {
   "cell_type": "code",
   "execution_count": 25,
   "metadata": {},
   "outputs": [
    {
     "name": "stdout",
     "output_type": "stream",
     "text": "/home/noobcoder/0_Project/school/BigData/DemoNov29\n"
    }
   ],
   "source": [
    "import findspark\n",
    "findspark.init()\n",
    "\n",
    "import os\n",
    "PROJECT_HOME = os.path.abspath(os.curdir)\n",
    "print(PROJECT_HOME)\n",
    "\n",
    "import pandas as pd\n",
    "from pyspark.sql import SparkSession\n",
    "import pyspark.sql.functions as F\n",
    "from pyspark.sql.types import IntegerType "
   ]
  },
  {
   "cell_type": "code",
   "execution_count": 53,
   "metadata": {},
   "outputs": [],
   "source": [
    "pd.set_option('display.max_colwidth', 500)"
   ]
  },
  {
   "cell_type": "code",
   "execution_count": 3,
   "metadata": {},
   "outputs": [],
   "source": [
    "SPARK_MASTER_HOST = os.environ.get('SPARK_MASTER_HOST', 'localhost')\n",
    "sc = SparkSession.builder\\\n",
    "    .master(f'spark://{SPARK_MASTER_HOST}:7077')\\\n",
    "    .appName('Quiz04_5')\\\n",
    "    .config('spark.executor.memory', '512m')\\\n",
    "    .getOrCreate()"
   ]
  },
  {
   "cell_type": "markdown",
   "execution_count": null,
   "metadata": {},
   "outputs": [],
   "source": [
    "# TASK 05: Recommender systems with ALS"
   ]
  },
  {
   "cell_type": "markdown",
   "execution_count": null,
   "metadata": {},
   "outputs": [],
   "source": [
    "## LOAD DATA"
   ]
  },
  {
   "cell_type": "code",
   "execution_count": 26,
   "metadata": {},
   "outputs": [
    {
     "name": "stdout",
     "output_type": "stream",
     "text": "+-------+--------+------+\n|user_id|movie_id|rating|\n+-------+--------+------+\n|      0|       2|     3|\n|      0|       3|     1|\n|      0|       5|     2|\n|      0|       9|     4|\n|      0|      11|     1|\n+-------+--------+------+\nonly showing top 5 rows\n\n"
    }
   ],
   "source": [
    "data = sc.sparkContext.textFile(f'file://{PROJECT_HOME}/data/sample_movielens_data.txt')\\\n",
    "    .map(lambda line: str(line).strip().split('::'))\\\n",
    "    .toDF(['user_id', 'movie_id', 'rating'])\\\n",
    "    .withColumn('user_id', F.col('user_id').cast(IntegerType()))\\\n",
    "    .withColumn('movie_id', F.col('movie_id').cast(IntegerType()))\\\n",
    "    .withColumn('rating', F.col('rating').cast(IntegerType()))\n",
    "\n",
    "data.show(n=20)"
   ]
  },
  {
   "cell_type": "markdown",
   "execution_count": null,
   "metadata": {},
   "outputs": [],
   "source": [
    "## Create training & Test data"
   ]
  },
  {
   "cell_type": "code",
   "execution_count": 56,
   "metadata": {},
   "outputs": [],
   "source": [
    "(train_data, test_data) = data.randomSplit([0.8, 0.2])"
   ]
  },
  {
   "cell_type": "markdown",
   "execution_count": null,
   "metadata": {},
   "outputs": [],
   "source": [
    "## Create ALS Model"
   ]
  },
  {
   "cell_type": "code",
   "execution_count": 21,
   "metadata": {},
   "outputs": [],
   "source": [
    "from pyspark.ml.recommendation import ALS\n",
    "from pyspark.ml.evaluation import RegressionEvaluator"
   ]
  },
  {
   "cell_type": "code",
   "execution_count": 62,
   "metadata": {},
   "outputs": [],
   "source": [
    "als = ALS(maxIter=5, regParam=0.01, userCol='user_id', ratingCol='rating', itemCol='movie_id')\n",
    "\n",
    "als.setColdStartStrategy('drop')\n",
    "model = als.fit(train_data)"
   ]
  },
  {
   "cell_type": "markdown",
   "execution_count": null,
   "metadata": {},
   "outputs": [],
   "source": [
    "## Generate prediction using RegressionEvaluator with `r2` metric"
   ]
  },
  {
   "cell_type": "code",
   "execution_count": 63,
   "metadata": {},
   "outputs": [
    {
     "name": "stdout",
     "output_type": "stream",
     "text": "+-------+--------+------+----------+\n|user_id|movie_id|rating|prediction|\n+-------+--------+------+----------+\n|     27|      31|     1| 1.8055043|\n|      8|      31|     3| 2.2396927|\n|     25|      31|     2|0.44899365|\n|     14|      31|     3| 2.0162518|\n|     18|      31|     1| 0.2124876|\n|     12|      85|     1| 0.9194294|\n|      1|      85|     3| 1.0778955|\n|     13|      85|     1| 1.2044089|\n|     16|      85|     5| 2.8538754|\n|     20|      85|     2| 1.9367349|\n+-------+--------+------+----------+\nonly showing top 10 rows\n\n"
    }
   ],
   "source": [
    "evaluator = RegressionEvaluator(predictionCol='prediction', labelCol='movie_id', metricName='r2')\n",
    "predictions = model.transform(test_data)\n",
    "\n",
    "r2 = evaluator.evaluate(predictions)\n",
    "predictions.show(n=10)"
   ]
  },
  {
   "cell_type": "markdown",
   "execution_count": null,
   "metadata": {},
   "outputs": [],
   "source": [
    "## RECOMMEND TOP `5` MOVIES FOR EACH USER"
   ]
  },
  {
   "cell_type": "code",
   "execution_count": 64,
   "metadata": {},
   "outputs": [
    {
     "data": {
      "text/html": "<div>\n<style scoped>\n    .dataframe tbody tr th:only-of-type {\n        vertical-align: middle;\n    }\n\n    .dataframe tbody tr th {\n        vertical-align: top;\n    }\n\n    .dataframe thead th {\n        text-align: right;\n    }\n</style>\n<table border=\"1\" class=\"dataframe\">\n  <thead>\n    <tr style=\"text-align: right;\">\n      <th></th>\n      <th>user_id</th>\n      <th>recommendations</th>\n    </tr>\n  </thead>\n  <tbody>\n    <tr>\n      <th>0</th>\n      <td>28</td>\n      <td>[(46, 7.011728763580322), (22, 6.188665390014648), (8, 5.105101108551025), (12, 4.890925407409668), (34, 4.101345062255859)]</td>\n    </tr>\n    <tr>\n      <th>1</th>\n      <td>26</td>\n      <td>[(38, 5.215191841125488), (30, 5.102921009063721), (22, 4.955678939819336), (7, 4.826887130737305), (51, 4.33873176574707)]</td>\n    </tr>\n    <tr>\n      <th>2</th>\n      <td>27</td>\n      <td>[(38, 4.2677998542785645), (47, 3.5196070671081543), (18, 3.368234634399414), (19, 3.063934803009033), (27, 3.0505995750427246)]</td>\n    </tr>\n    <tr>\n      <th>3</th>\n      <td>12</td>\n      <td>[(17, 4.942808628082275), (27, 4.918002128601074), (64, 4.886162281036377), (88, 4.772541046142578), (40, 4.508386611938477)]</td>\n    </tr>\n    <tr>\n      <th>4</th>\n      <td>22</td>\n      <td>[(74, 4.979816436767578), (30, 4.97975492477417), (88, 4.883581161499023), (51, 4.751498699188232), (62, 4.034212589263916)]</td>\n    </tr>\n    <tr>\n      <th>5</th>\n      <td>1</td>\n      <td>[(30, 5.546263694763184), (10, 4.254742622375488), (65, 4.240033149719238), (38, 4.198899269104004), (7, 4.0509209632873535)]</td>\n    </tr>\n    <tr>\n      <th>6</th>\n      <td>13</td>\n      <td>[(41, 3.6926305294036865), (83, 3.199340343475342), (92, 2.9805986881256104), (47, 2.868960380554199), (72, 2.865938901901245)]</td>\n    </tr>\n    <tr>\n      <th>7</th>\n      <td>6</td>\n      <td>[(51, 6.390158176422119), (74, 6.313582897186279), (92, 5.353476047515869), (98, 5.062294006347656), (41, 4.957209587097168)]</td>\n    </tr>\n    <tr>\n      <th>8</th>\n      <td>16</td>\n      <td>[(54, 4.919881820678711), (90, 4.893517017364502), (51, 4.822025775909424), (1, 4.655332088470459), (22, 4.108940601348877)]</td>\n    </tr>\n    <tr>\n      <th>9</th>\n      <td>3</td>\n      <td>[(46, 4.935356140136719), (80, 4.011600971221924), (88, 3.82204532623291), (77, 3.3174386024475098), (30, 3.139488935470581)]</td>\n    </tr>\n  </tbody>\n</table>\n</div>",
      "text/plain": "   user_id  \\\n0       28   \n1       26   \n2       27   \n3       12   \n4       22   \n5        1   \n6       13   \n7        6   \n8       16   \n9        3   \n\n                                                                                                                    recommendations  \n0      [(46, 7.011728763580322), (22, 6.188665390014648), (8, 5.105101108551025), (12, 4.890925407409668), (34, 4.101345062255859)]  \n1       [(38, 5.215191841125488), (30, 5.102921009063721), (22, 4.955678939819336), (7, 4.826887130737305), (51, 4.33873176574707)]  \n2  [(38, 4.2677998542785645), (47, 3.5196070671081543), (18, 3.368234634399414), (19, 3.063934803009033), (27, 3.0505995750427246)]  \n3     [(17, 4.942808628082275), (27, 4.918002128601074), (64, 4.886162281036377), (88, 4.772541046142578), (40, 4.508386611938477)]  \n4      [(74, 4.979816436767578), (30, 4.97975492477417), (88, 4.883581161499023), (51, 4.751498699188232), (62, 4.034212589263916)]  \n5     [(30, 5.546263694763184), (10, 4.254742622375488), (65, 4.240033149719238), (38, 4.198899269104004), (7, 4.0509209632873535)]  \n6   [(41, 3.6926305294036865), (83, 3.199340343475342), (92, 2.9805986881256104), (47, 2.868960380554199), (72, 2.865938901901245)]  \n7     [(51, 6.390158176422119), (74, 6.313582897186279), (92, 5.353476047515869), (98, 5.062294006347656), (41, 4.957209587097168)]  \n8      [(54, 4.919881820678711), (90, 4.893517017364502), (51, 4.822025775909424), (1, 4.655332088470459), (22, 4.108940601348877)]  \n9     [(46, 4.935356140136719), (80, 4.011600971221924), (88, 3.82204532623291), (77, 3.3174386024475098), (30, 3.139488935470581)]  "
     },
     "execution_count": 64,
     "metadata": {},
     "output_type": "execute_result"
    }
   ],
   "source": [
    "user_recs = model.recommendForAllUsers(5)\n",
    "user_recs.toPandas().head(10)"
   ]
  },
  {
   "cell_type": "markdown",
   "execution_count": null,
   "metadata": {},
   "outputs": [],
   "source": [
    "## RECOMMEND TOP `5` USERS OF EACH MOVIE"
   ]
  },
  {
   "cell_type": "code",
   "execution_count": 66,
   "metadata": {},
   "outputs": [
    {
     "data": {
      "text/html": "<div>\n<style scoped>\n    .dataframe tbody tr th:only-of-type {\n        vertical-align: middle;\n    }\n\n    .dataframe tbody tr th {\n        vertical-align: top;\n    }\n\n    .dataframe thead th {\n        text-align: right;\n    }\n</style>\n<table border=\"1\" class=\"dataframe\">\n  <thead>\n    <tr style=\"text-align: right;\">\n      <th></th>\n      <th>movie_id</th>\n      <th>recommendations</th>\n    </tr>\n  </thead>\n  <tbody>\n    <tr>\n      <th>0</th>\n      <td>31</td>\n      <td>[(12, 3.917371988296509), (2, 2.683123826980591), (7, 2.4745254516601562), (8, 2.2396926879882812), (14, 2.016251802444458)]</td>\n    </tr>\n    <tr>\n      <th>1</th>\n      <td>85</td>\n      <td>[(6, 2.995903730392456), (16, 2.8538753986358643), (24, 2.3338565826416016), (25, 2.108302116394043), (20, 1.936734914779663)]</td>\n    </tr>\n    <tr>\n      <th>2</th>\n      <td>65</td>\n      <td>[(23, 4.959682941436768), (1, 4.240033149719238), (11, 3.3888955116271973), (18, 3.2355968952178955), (10, 2.60775089263916)]</td>\n    </tr>\n    <tr>\n      <th>3</th>\n      <td>53</td>\n      <td>[(8, 4.8919148445129395), (0, 4.375528335571289), (16, 3.9404916763305664), (7, 3.261551856994629), (4, 3.2231810092926025)]</td>\n    </tr>\n    <tr>\n      <th>4</th>\n      <td>78</td>\n      <td>[(12, 1.1849931478500366), (1, 1.0519057512283325), (8, 1.0452980995178223), (2, 1.04275643825531), (22, 1.0292414426803589)]</td>\n    </tr>\n    <tr>\n      <th>5</th>\n      <td>34</td>\n      <td>[(28, 4.101345062255859), (9, 3.2221744060516357), (3, 2.764707088470459), (21, 2.7040958404541016), (1, 2.5107083320617676)]</td>\n    </tr>\n    <tr>\n      <th>6</th>\n      <td>81</td>\n      <td>[(23, 4.132896900177002), (11, 4.023634433746338), (26, 3.6265156269073486), (1, 2.9930005073547363), (18, 2.883845090866089)]</td>\n    </tr>\n    <tr>\n      <th>7</th>\n      <td>28</td>\n      <td>[(28, 2.320584774017334), (26, 2.3127448558807373), (15, 1.971734642982483), (20, 1.8434174060821533), (24, 1.834133267402649)]</td>\n    </tr>\n    <tr>\n      <th>8</th>\n      <td>76</td>\n      <td>[(0, 3.487499952316284), (18, 3.0076258182525635), (3, 3.0007224082946777), (24, 2.790271520614624), (21, 2.606706142425537)]</td>\n    </tr>\n    <tr>\n      <th>9</th>\n      <td>26</td>\n      <td>[(0, 3.074420928955078), (15, 2.9228017330169678), (8, 2.7477529048919678), (10, 2.74411678314209), (26, 2.599515914916992)]</td>\n    </tr>\n  </tbody>\n</table>\n</div>",
      "text/plain": "   movie_id  \\\n0        31   \n1        85   \n2        65   \n3        53   \n4        78   \n5        34   \n6        81   \n7        28   \n8        76   \n9        26   \n\n                                                                                                                   recommendations  \n0     [(12, 3.917371988296509), (2, 2.683123826980591), (7, 2.4745254516601562), (8, 2.2396926879882812), (14, 2.016251802444458)]  \n1   [(6, 2.995903730392456), (16, 2.8538753986358643), (24, 2.3338565826416016), (25, 2.108302116394043), (20, 1.936734914779663)]  \n2    [(23, 4.959682941436768), (1, 4.240033149719238), (11, 3.3888955116271973), (18, 3.2355968952178955), (10, 2.60775089263916)]  \n3     [(8, 4.8919148445129395), (0, 4.375528335571289), (16, 3.9404916763305664), (7, 3.261551856994629), (4, 3.2231810092926025)]  \n4    [(12, 1.1849931478500366), (1, 1.0519057512283325), (8, 1.0452980995178223), (2, 1.04275643825531), (22, 1.0292414426803589)]  \n5    [(28, 4.101345062255859), (9, 3.2221744060516357), (3, 2.764707088470459), (21, 2.7040958404541016), (1, 2.5107083320617676)]  \n6   [(23, 4.132896900177002), (11, 4.023634433746338), (26, 3.6265156269073486), (1, 2.9930005073547363), (18, 2.883845090866089)]  \n7  [(28, 2.320584774017334), (26, 2.3127448558807373), (15, 1.971734642982483), (20, 1.8434174060821533), (24, 1.834133267402649)]  \n8    [(0, 3.487499952316284), (18, 3.0076258182525635), (3, 3.0007224082946777), (24, 2.790271520614624), (21, 2.606706142425537)]  \n9     [(0, 3.074420928955078), (15, 2.9228017330169678), (8, 2.7477529048919678), (10, 2.74411678314209), (26, 2.599515914916992)]  "
     },
     "execution_count": 66,
     "metadata": {},
     "output_type": "execute_result"
    }
   ],
   "source": [
    "movie_recs = model.recommendForAllItems(5)\n",
    "movie_recs.toPandas().head(10)"
   ]
  }
 ]
}