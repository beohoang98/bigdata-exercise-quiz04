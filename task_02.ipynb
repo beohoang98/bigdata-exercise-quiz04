{
 "nbformat": 4,
 "nbformat_minor": 2,
 "metadata": {
  "language_info": {
   "name": "python",
   "codemirror_mode": {
    "name": "ipython",
    "version": 3
   },
   "version": "3.7.3"
  },
  "orig_nbformat": 2,
  "file_extension": ".py",
  "mimetype": "text/x-python",
  "name": "python",
  "npconvert_exporter": "python",
  "pygments_lexer": "ipython3",
  "version": 3
 },
 "cells": [
  {
   "cell_type": "markdown",
   "metadata": {},
   "outputs": [],
   "source": [
    "# TASK 02 Frequent pattern mining with FPGrowth\n",
    "\n",
    "> Load the dataset sample_fpgrowth.txt, which is available in the folder Googgle Drive\\DemoNov29\n"
   ]
  },
  {
   "cell_type": "code",
   "execution_count": 1,
   "metadata": {},
   "outputs": [
    {
     "name": "stdout",
     "output_type": "stream",
     "text": "/home/noobcoder/0_Project/school/BigData/DemoNov29\n"
    }
   ],
   "source": [
    "import findspark\n",
    "findspark.init()\n",
    "\n",
    "import os\n",
    "PROJECT_HOME = os.path.abspath(os.curdir)\n",
    "print(PROJECT_HOME)\n",
    "\n",
    "import pandas as pd\n",
    "from pyspark.sql import SparkSession\n",
    "from pyspark.ml.fpm import FPGrowth\n",
    "import pyspark.sql.functions as F"
   ]
  },
  {
   "cell_type": "markdown",
   "metadata": {},
   "outputs": [],
   "source": [
    "## SETUP"
   ]
  },
  {
   "cell_type": "code",
   "execution_count": 2,
   "metadata": {},
   "outputs": [],
   "source": [
    "SPARK_MASTER_HOST = os.environ.get('SPARK_MASTER_HOST', 'localhost')\n",
    "sc = SparkSession.builder\\\n",
    "    .master(f'spark://{SPARK_MASTER_HOST}:7077')\\\n",
    "    .appName('Quiz04_2')\\\n",
    "    .config('spark.executor.memory', '512m')\\\n",
    "    .getOrCreate()"
   ]
  },
  {
   "cell_type": "code",
   "execution_count": 3,
   "metadata": {},
   "outputs": [],
   "source": [
    "pd.set_option('display.max_colwidth', 200)"
   ]
  },
  {
   "cell_type": "markdown",
   "metadata": {},
   "outputs": [],
   "source": [
    "## a. Perform an appropriate SparkML API (DF-based) on the given dataset"
   ]
  },
  {
   "cell_type": "code",
   "execution_count": 4,
   "metadata": {},
   "outputs": [
    {
     "data": {
      "text/html": "<div>\n<style scoped>\n    .dataframe tbody tr th:only-of-type {\n        vertical-align: middle;\n    }\n\n    .dataframe tbody tr th {\n        vertical-align: top;\n    }\n\n    .dataframe thead th {\n        text-align: right;\n    }\n</style>\n<table border=\"1\" class=\"dataframe\">\n  <thead>\n    <tr style=\"text-align: right;\">\n      <th></th>\n      <th>item</th>\n    </tr>\n  </thead>\n  <tbody>\n    <tr>\n      <th>0</th>\n      <td>[r, z, h, k, p]</td>\n    </tr>\n    <tr>\n      <th>1</th>\n      <td>[z, y, x, w, v, u, t, s]</td>\n    </tr>\n    <tr>\n      <th>2</th>\n      <td>[s, x, o, n, r]</td>\n    </tr>\n    <tr>\n      <th>3</th>\n      <td>[x, z, y, m, t, s, q, e]</td>\n    </tr>\n    <tr>\n      <th>4</th>\n      <td>[z]</td>\n    </tr>\n    <tr>\n      <th>5</th>\n      <td>[x, z, y, r, q, t, p]</td>\n    </tr>\n  </tbody>\n</table>\n</div>",
      "text/plain": "                       item\n0           [r, z, h, k, p]\n1  [z, y, x, w, v, u, t, s]\n2           [s, x, o, n, r]\n3  [x, z, y, m, t, s, q, e]\n4                       [z]\n5     [x, z, y, r, q, t, p]"
     },
     "execution_count": 4,
     "metadata": {},
     "output_type": "execute_result"
    }
   ],
   "source": [
    "df = sc.read.csv(f\"file://{PROJECT_HOME}/data/sample_fpgrowth.txt\", header=None).toDF('item')\n",
    "df = df.withColumn('item', F.split(F.col('item'), ' '))\n",
    "df.toPandas()"
   ]
  },
  {
   "cell_type": "code",
   "execution_count": 5,
   "metadata": {},
   "outputs": [],
   "source": [
    "fpGrowth = FPGrowth(itemsCol=\"item\", minSupport=0.5, minConfidence=0.6)\n",
    "model = fpGrowth.fit(df)"
   ]
  },
  {
   "cell_type": "markdown",
   "metadata": {},
   "outputs": [],
   "source": [
    "#### Display frequent itemsets."
   ]
  },
  {
   "cell_type": "code",
   "execution_count": 6,
   "metadata": {},
   "outputs": [
    {
     "data": {
      "text/html": "<div>\n<style scoped>\n    .dataframe tbody tr th:only-of-type {\n        vertical-align: middle;\n    }\n\n    .dataframe tbody tr th {\n        vertical-align: top;\n    }\n\n    .dataframe thead th {\n        text-align: right;\n    }\n</style>\n<table border=\"1\" class=\"dataframe\">\n  <thead>\n    <tr style=\"text-align: right;\">\n      <th></th>\n      <th>items</th>\n      <th>freq</th>\n    </tr>\n  </thead>\n  <tbody>\n    <tr>\n      <th>0</th>\n      <td>[s]</td>\n      <td>3</td>\n    </tr>\n    <tr>\n      <th>1</th>\n      <td>[s, x]</td>\n      <td>3</td>\n    </tr>\n    <tr>\n      <th>2</th>\n      <td>[r]</td>\n      <td>3</td>\n    </tr>\n    <tr>\n      <th>3</th>\n      <td>[y]</td>\n      <td>3</td>\n    </tr>\n    <tr>\n      <th>4</th>\n      <td>[y, x]</td>\n      <td>3</td>\n    </tr>\n    <tr>\n      <th>5</th>\n      <td>[y, x, z]</td>\n      <td>3</td>\n    </tr>\n    <tr>\n      <th>6</th>\n      <td>[y, t]</td>\n      <td>3</td>\n    </tr>\n    <tr>\n      <th>7</th>\n      <td>[y, t, x]</td>\n      <td>3</td>\n    </tr>\n    <tr>\n      <th>8</th>\n      <td>[y, t, x, z]</td>\n      <td>3</td>\n    </tr>\n    <tr>\n      <th>9</th>\n      <td>[y, t, z]</td>\n      <td>3</td>\n    </tr>\n    <tr>\n      <th>10</th>\n      <td>[y, z]</td>\n      <td>3</td>\n    </tr>\n    <tr>\n      <th>11</th>\n      <td>[x]</td>\n      <td>4</td>\n    </tr>\n    <tr>\n      <th>12</th>\n      <td>[x, z]</td>\n      <td>3</td>\n    </tr>\n    <tr>\n      <th>13</th>\n      <td>[t]</td>\n      <td>3</td>\n    </tr>\n    <tr>\n      <th>14</th>\n      <td>[t, x]</td>\n      <td>3</td>\n    </tr>\n    <tr>\n      <th>15</th>\n      <td>[t, x, z]</td>\n      <td>3</td>\n    </tr>\n    <tr>\n      <th>16</th>\n      <td>[t, z]</td>\n      <td>3</td>\n    </tr>\n    <tr>\n      <th>17</th>\n      <td>[z]</td>\n      <td>5</td>\n    </tr>\n  </tbody>\n</table>\n</div>",
      "text/plain": "           items  freq\n0            [s]     3\n1         [s, x]     3\n2            [r]     3\n3            [y]     3\n4         [y, x]     3\n5      [y, x, z]     3\n6         [y, t]     3\n7      [y, t, x]     3\n8   [y, t, x, z]     3\n9      [y, t, z]     3\n10        [y, z]     3\n11           [x]     4\n12        [x, z]     3\n13           [t]     3\n14        [t, x]     3\n15     [t, x, z]     3\n16        [t, z]     3\n17           [z]     5"
     },
     "execution_count": 6,
     "metadata": {},
     "output_type": "execute_result"
    }
   ],
   "source": [
    "model.freqItemsets.toPandas()"
   ]
  },
  {
   "cell_type": "markdown",
   "metadata": {},
   "outputs": [],
   "source": [
    "#### Display generated association rules."
   ]
  },
  {
   "cell_type": "code",
   "execution_count": 7,
   "metadata": {},
   "outputs": [
    {
     "data": {
      "text/html": "<div>\n<style scoped>\n    .dataframe tbody tr th:only-of-type {\n        vertical-align: middle;\n    }\n\n    .dataframe tbody tr th {\n        vertical-align: top;\n    }\n\n    .dataframe thead th {\n        text-align: right;\n    }\n</style>\n<table border=\"1\" class=\"dataframe\">\n  <thead>\n    <tr style=\"text-align: right;\">\n      <th></th>\n      <th>antecedent</th>\n      <th>consequent</th>\n      <th>confidence</th>\n      <th>lift</th>\n    </tr>\n  </thead>\n  <tbody>\n    <tr>\n      <th>0</th>\n      <td>[t]</td>\n      <td>[y]</td>\n      <td>1.00</td>\n      <td>2.0</td>\n    </tr>\n    <tr>\n      <th>1</th>\n      <td>[t]</td>\n      <td>[x]</td>\n      <td>1.00</td>\n      <td>1.5</td>\n    </tr>\n    <tr>\n      <th>2</th>\n      <td>[t]</td>\n      <td>[z]</td>\n      <td>1.00</td>\n      <td>1.2</td>\n    </tr>\n    <tr>\n      <th>3</th>\n      <td>[y, t, x]</td>\n      <td>[z]</td>\n      <td>1.00</td>\n      <td>1.2</td>\n    </tr>\n    <tr>\n      <th>4</th>\n      <td>[x]</td>\n      <td>[s]</td>\n      <td>0.75</td>\n      <td>1.5</td>\n    </tr>\n    <tr>\n      <th>5</th>\n      <td>[x]</td>\n      <td>[y]</td>\n      <td>0.75</td>\n      <td>1.5</td>\n    </tr>\n    <tr>\n      <th>6</th>\n      <td>[x]</td>\n      <td>[z]</td>\n      <td>0.75</td>\n      <td>0.9</td>\n    </tr>\n    <tr>\n      <th>7</th>\n      <td>[x]</td>\n      <td>[t]</td>\n      <td>0.75</td>\n      <td>1.5</td>\n    </tr>\n    <tr>\n      <th>8</th>\n      <td>[y, z]</td>\n      <td>[x]</td>\n      <td>1.00</td>\n      <td>1.5</td>\n    </tr>\n    <tr>\n      <th>9</th>\n      <td>[y, z]</td>\n      <td>[t]</td>\n      <td>1.00</td>\n      <td>2.0</td>\n    </tr>\n    <tr>\n      <th>10</th>\n      <td>[y, t]</td>\n      <td>[x]</td>\n      <td>1.00</td>\n      <td>1.5</td>\n    </tr>\n    <tr>\n      <th>11</th>\n      <td>[y, t]</td>\n      <td>[z]</td>\n      <td>1.00</td>\n      <td>1.2</td>\n    </tr>\n    <tr>\n      <th>12</th>\n      <td>[y, x]</td>\n      <td>[z]</td>\n      <td>1.00</td>\n      <td>1.2</td>\n    </tr>\n    <tr>\n      <th>13</th>\n      <td>[y, x]</td>\n      <td>[t]</td>\n      <td>1.00</td>\n      <td>2.0</td>\n    </tr>\n    <tr>\n      <th>14</th>\n      <td>[y, x, z]</td>\n      <td>[t]</td>\n      <td>1.00</td>\n      <td>2.0</td>\n    </tr>\n    <tr>\n      <th>15</th>\n      <td>[y, t, z]</td>\n      <td>[x]</td>\n      <td>1.00</td>\n      <td>1.5</td>\n    </tr>\n    <tr>\n      <th>16</th>\n      <td>[s]</td>\n      <td>[x]</td>\n      <td>1.00</td>\n      <td>1.5</td>\n    </tr>\n    <tr>\n      <th>17</th>\n      <td>[y]</td>\n      <td>[x]</td>\n      <td>1.00</td>\n      <td>1.5</td>\n    </tr>\n    <tr>\n      <th>18</th>\n      <td>[y]</td>\n      <td>[t]</td>\n      <td>1.00</td>\n      <td>2.0</td>\n    </tr>\n    <tr>\n      <th>19</th>\n      <td>[y]</td>\n      <td>[z]</td>\n      <td>1.00</td>\n      <td>1.2</td>\n    </tr>\n    <tr>\n      <th>20</th>\n      <td>[t, x, z]</td>\n      <td>[y]</td>\n      <td>1.00</td>\n      <td>2.0</td>\n    </tr>\n    <tr>\n      <th>21</th>\n      <td>[x, z]</td>\n      <td>[y]</td>\n      <td>1.00</td>\n      <td>2.0</td>\n    </tr>\n    <tr>\n      <th>22</th>\n      <td>[x, z]</td>\n      <td>[t]</td>\n      <td>1.00</td>\n      <td>2.0</td>\n    </tr>\n    <tr>\n      <th>23</th>\n      <td>[z]</td>\n      <td>[y]</td>\n      <td>0.60</td>\n      <td>1.2</td>\n    </tr>\n    <tr>\n      <th>24</th>\n      <td>[z]</td>\n      <td>[x]</td>\n      <td>0.60</td>\n      <td>0.9</td>\n    </tr>\n    <tr>\n      <th>25</th>\n      <td>[z]</td>\n      <td>[t]</td>\n      <td>0.60</td>\n      <td>1.2</td>\n    </tr>\n    <tr>\n      <th>26</th>\n      <td>[t, z]</td>\n      <td>[y]</td>\n      <td>1.00</td>\n      <td>2.0</td>\n    </tr>\n    <tr>\n      <th>27</th>\n      <td>[t, z]</td>\n      <td>[x]</td>\n      <td>1.00</td>\n      <td>1.5</td>\n    </tr>\n    <tr>\n      <th>28</th>\n      <td>[t, x]</td>\n      <td>[y]</td>\n      <td>1.00</td>\n      <td>2.0</td>\n    </tr>\n    <tr>\n      <th>29</th>\n      <td>[t, x]</td>\n      <td>[z]</td>\n      <td>1.00</td>\n      <td>1.2</td>\n    </tr>\n  </tbody>\n</table>\n</div>",
      "text/plain": "   antecedent consequent  confidence  lift\n0         [t]        [y]        1.00   2.0\n1         [t]        [x]        1.00   1.5\n2         [t]        [z]        1.00   1.2\n3   [y, t, x]        [z]        1.00   1.2\n4         [x]        [s]        0.75   1.5\n5         [x]        [y]        0.75   1.5\n6         [x]        [z]        0.75   0.9\n7         [x]        [t]        0.75   1.5\n8      [y, z]        [x]        1.00   1.5\n9      [y, z]        [t]        1.00   2.0\n10     [y, t]        [x]        1.00   1.5\n11     [y, t]        [z]        1.00   1.2\n12     [y, x]        [z]        1.00   1.2\n13     [y, x]        [t]        1.00   2.0\n14  [y, x, z]        [t]        1.00   2.0\n15  [y, t, z]        [x]        1.00   1.5\n16        [s]        [x]        1.00   1.5\n17        [y]        [x]        1.00   1.5\n18        [y]        [t]        1.00   2.0\n19        [y]        [z]        1.00   1.2\n20  [t, x, z]        [y]        1.00   2.0\n21     [x, z]        [y]        1.00   2.0\n22     [x, z]        [t]        1.00   2.0\n23        [z]        [y]        0.60   1.2\n24        [z]        [x]        0.60   0.9\n25        [z]        [t]        0.60   1.2\n26     [t, z]        [y]        1.00   2.0\n27     [t, z]        [x]        1.00   1.5\n28     [t, x]        [y]        1.00   2.0\n29     [t, x]        [z]        1.00   1.2"
     },
     "execution_count": 7,
     "metadata": {},
     "output_type": "execute_result"
    }
   ],
   "source": [
    "model.associationRules.toPandas()"
   ]
  },
  {
   "cell_type": "code",
   "execution_count": 8,
   "metadata": {},
   "outputs": [
    {
     "data": {
      "text/html": "<div>\n<style scoped>\n    .dataframe tbody tr th:only-of-type {\n        vertical-align: middle;\n    }\n\n    .dataframe tbody tr th {\n        vertical-align: top;\n    }\n\n    .dataframe thead th {\n        text-align: right;\n    }\n</style>\n<table border=\"1\" class=\"dataframe\">\n  <thead>\n    <tr style=\"text-align: right;\">\n      <th></th>\n      <th>item</th>\n      <th>prediction</th>\n    </tr>\n  </thead>\n  <tbody>\n    <tr>\n      <th>0</th>\n      <td>[r, z, h, k, p]</td>\n      <td>[y, x, t]</td>\n    </tr>\n    <tr>\n      <th>1</th>\n      <td>[z, y, x, w, v, u, t, s]</td>\n      <td>[]</td>\n    </tr>\n    <tr>\n      <th>2</th>\n      <td>[s, x, o, n, r]</td>\n      <td>[y, z, t]</td>\n    </tr>\n    <tr>\n      <th>3</th>\n      <td>[x, z, y, m, t, s, q, e]</td>\n      <td>[]</td>\n    </tr>\n    <tr>\n      <th>4</th>\n      <td>[z]</td>\n      <td>[y, x, t]</td>\n    </tr>\n    <tr>\n      <th>5</th>\n      <td>[x, z, y, r, q, t, p]</td>\n      <td>[s]</td>\n    </tr>\n  </tbody>\n</table>\n</div>",
      "text/plain": "                       item prediction\n0           [r, z, h, k, p]  [y, x, t]\n1  [z, y, x, w, v, u, t, s]         []\n2           [s, x, o, n, r]  [y, z, t]\n3  [x, z, y, m, t, s, q, e]         []\n4                       [z]  [y, x, t]\n5     [x, z, y, r, q, t, p]        [s]"
     },
     "execution_count": 8,
     "metadata": {},
     "output_type": "execute_result"
    }
   ],
   "source": [
    "model.transform(df).toPandas()"
   ]
  },
  {
   "cell_type": "markdown",
   "metadata": {},
   "outputs": [],
   "source": [
    "## b. Perform an appropriate MLLib API (RDD-based) on the given dataset"
   ]
  },
  {
   "cell_type": "code",
   "execution_count": 9,
   "metadata": {},
   "outputs": [],
   "source": [
    "from pyspark.mllib.fpm import FPGrowth as MLibFPGrowth"
   ]
  },
  {
   "cell_type": "code",
   "execution_count": 10,
   "metadata": {},
   "outputs": [],
   "source": [
    "context = sc.sparkContext\n",
    "data = context.textFile(f\"file://{PROJECT_HOME}/data/sample_fpgrowth.txt\")\n",
    "lines = data.map(lambda x: str(x).strip().split(' '))"
   ]
  },
  {
   "cell_type": "code",
   "execution_count": 11,
   "metadata": {},
   "outputs": [
    {
     "data": {
      "text/html": "<div>\n<style scoped>\n    .dataframe tbody tr th:only-of-type {\n        vertical-align: middle;\n    }\n\n    .dataframe tbody tr th {\n        vertical-align: top;\n    }\n\n    .dataframe thead th {\n        text-align: right;\n    }\n</style>\n<table border=\"1\" class=\"dataframe\">\n  <thead>\n    <tr style=\"text-align: right;\">\n      <th></th>\n      <th>items</th>\n      <th>freq</th>\n    </tr>\n  </thead>\n  <tbody>\n    <tr>\n      <th>0</th>\n      <td>[t]</td>\n      <td>3</td>\n    </tr>\n    <tr>\n      <th>1</th>\n      <td>[t, x]</td>\n      <td>3</td>\n    </tr>\n    <tr>\n      <th>2</th>\n      <td>[t, x, z]</td>\n      <td>3</td>\n    </tr>\n    <tr>\n      <th>3</th>\n      <td>[t, z]</td>\n      <td>3</td>\n    </tr>\n    <tr>\n      <th>4</th>\n      <td>[s]</td>\n      <td>3</td>\n    </tr>\n    <tr>\n      <th>5</th>\n      <td>[s, x]</td>\n      <td>3</td>\n    </tr>\n    <tr>\n      <th>6</th>\n      <td>[z]</td>\n      <td>5</td>\n    </tr>\n    <tr>\n      <th>7</th>\n      <td>[y]</td>\n      <td>3</td>\n    </tr>\n    <tr>\n      <th>8</th>\n      <td>[y, t]</td>\n      <td>3</td>\n    </tr>\n    <tr>\n      <th>9</th>\n      <td>[y, t, x]</td>\n      <td>3</td>\n    </tr>\n    <tr>\n      <th>10</th>\n      <td>[y, t, x, z]</td>\n      <td>3</td>\n    </tr>\n    <tr>\n      <th>11</th>\n      <td>[y, t, z]</td>\n      <td>3</td>\n    </tr>\n    <tr>\n      <th>12</th>\n      <td>[y, x]</td>\n      <td>3</td>\n    </tr>\n    <tr>\n      <th>13</th>\n      <td>[y, x, z]</td>\n      <td>3</td>\n    </tr>\n    <tr>\n      <th>14</th>\n      <td>[y, z]</td>\n      <td>3</td>\n    </tr>\n    <tr>\n      <th>15</th>\n      <td>[x]</td>\n      <td>4</td>\n    </tr>\n    <tr>\n      <th>16</th>\n      <td>[x, z]</td>\n      <td>3</td>\n    </tr>\n    <tr>\n      <th>17</th>\n      <td>[r]</td>\n      <td>3</td>\n    </tr>\n  </tbody>\n</table>\n</div>",
      "text/plain": "           items  freq\n0            [t]     3\n1         [t, x]     3\n2      [t, x, z]     3\n3         [t, z]     3\n4            [s]     3\n5         [s, x]     3\n6            [z]     5\n7            [y]     3\n8         [y, t]     3\n9      [y, t, x]     3\n10  [y, t, x, z]     3\n11     [y, t, z]     3\n12        [y, x]     3\n13     [y, x, z]     3\n14        [y, z]     3\n15           [x]     4\n16        [x, z]     3\n17           [r]     3"
     },
     "execution_count": 11,
     "metadata": {},
     "output_type": "execute_result"
    }
   ],
   "source": [
    "model = MLibFPGrowth.train(lines, minSupport=0.5)\n",
    "model.freqItemsets().toDF().toPandas()"
   ]
  }
 ]
}