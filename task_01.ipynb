{
 "cells": [
  {
   "cell_type": "markdown",
   "metadata": {},
   "source": [
    "# TASK 01: Basic data operations on DataFrames and RDDs\n",
    "> Load the dataset movies.json, which is available in the folder Googgle Drive\\DemoNov29"
   ]
  },
  {
   "cell_type": "code",
   "execution_count": 60,
   "metadata": {},
   "outputs": [
    {
     "name": "stdout",
     "output_type": "stream",
     "text": [
      "/home/noobcoder/0_Project/school/BigData/DemoNov29\n"
     ]
    }
   ],
   "source": [
    "import os\n",
    "import sys\n",
    "import findspark\n",
    "findspark.init(os.environ.get('SPARK_HOME'))\n",
    "PROJECT_HOME = os.path.abspath(os.curdir)\n",
    "print(PROJECT_HOME)\n",
    "\n",
    "import pandas as pd\n",
    "from pyspark.sql import SparkSession, Window\n",
    "from pyspark.sql.functions \\\n",
    "    import lower, array_contains, size, collect_set, explode, col, count"
   ]
  },
  {
   "cell_type": "markdown",
   "metadata": {},
   "source": [
    "## SETUP"
   ]
  },
  {
   "cell_type": "code",
   "execution_count": 2,
   "metadata": {},
   "outputs": [
    {
     "name": "stdout",
     "output_type": "stream",
     "text": [
      "localhost\n"
     ]
    }
   ],
   "source": [
    "SPARK_MASTER_HOST = os.environ.get('SPARK_MASTER_HOST', 'localhost')\n",
    "print (SPARK_MASTER_HOST)\n",
    "sc = SparkSession.builder\\\n",
    "    .master(f'spark://{SPARK_MASTER_HOST}:7077')\\\n",
    "    .appName('Quiz04')\\\n",
    "    .getOrCreate()\n",
    "df = sc.read.json(f'file://{PROJECT_HOME}/data/movies.json')"
   ]
  },
  {
   "cell_type": "code",
   "execution_count": 3,
   "metadata": {},
   "outputs": [],
   "source": [
    "pd.set_option('display.max_colwidth', 200)"
   ]
  },
  {
   "cell_type": "markdown",
   "metadata": {},
   "source": [
    "### a. Read the dataset into a DataFrame df and show its schema"
   ]
  },
  {
   "cell_type": "code",
   "execution_count": 4,
   "metadata": {},
   "outputs": [
    {
     "name": "stdout",
     "output_type": "stream",
     "text": [
      "root\n",
      " |-- cast: array (nullable = true)\n",
      " |    |-- element: string (containsNull = true)\n",
      " |-- genres: array (nullable = true)\n",
      " |    |-- element: string (containsNull = true)\n",
      " |-- title: string (nullable = true)\n",
      " |-- year: long (nullable = true)\n",
      "\n"
     ]
    }
   ],
   "source": [
    "df.printSchema()"
   ]
  },
  {
   "cell_type": "markdown",
   "metadata": {},
   "source": [
    "### b. Count the number of records in df"
   ]
  },
  {
   "cell_type": "code",
   "execution_count": 5,
   "metadata": {},
   "outputs": [
    {
     "data": {
      "text/plain": [
       "28795"
      ]
     },
     "execution_count": 5,
     "metadata": {},
     "output_type": "execute_result"
    }
   ],
   "source": [
    "df.count()"
   ]
  },
  {
   "cell_type": "markdown",
   "metadata": {},
   "source": [
    "### c. Count the number of movies that were released after 2015"
   ]
  },
  {
   "cell_type": "code",
   "execution_count": 6,
   "metadata": {},
   "outputs": [
    {
     "data": {
      "text/plain": [
       "617"
      ]
     },
     "execution_count": 6,
     "metadata": {},
     "output_type": "execute_result"
    }
   ],
   "source": [
    "df.filter(df['year'] > 2015).count()"
   ]
  },
  {
   "cell_type": "markdown",
   "metadata": {},
   "source": [
    "### d. Show the movies whose names contain the word \"Soldiers\" (case-insensitive)"
   ]
  },
  {
   "cell_type": "code",
   "execution_count": 7,
   "metadata": {},
   "outputs": [
    {
     "data": {
      "text/plain": [
       "0                           Soldiers of Fortune\n",
       "1                            Soldiers and Women\n",
       "2                         Soldiers of the Storm\n",
       "3                              13 Lead Soldiers\n",
       "4                                Soldiers Three\n",
       "5                            The Horse Soldiers\n",
       "6                                  Toy Soldiers\n",
       "7                                Small Soldiers\n",
       "8                              Buffalo Soldiers\n",
       "9                              We Were Soldiers\n",
       "10                               Paper Soldiers\n",
       "11    13 Hours: The Secret Soldiers of Benghazi\n",
       "Name: title, dtype: object"
      ]
     },
     "execution_count": 7,
     "metadata": {},
     "output_type": "execute_result"
    }
   ],
   "source": [
    "df.filter(lower(df['title']).contains(\"soldiers\")).toPandas()['title']"
   ]
  },
  {
   "cell_type": "markdown",
   "metadata": {},
   "source": [
    "### e. Show the movies that Amy Adams participated"
   ]
  },
  {
   "cell_type": "code",
   "execution_count": 8,
   "metadata": {},
   "outputs": [
    {
     "data": {
      "text/html": [
       "<div>\n",
       "<style scoped>\n",
       "    .dataframe tbody tr th:only-of-type {\n",
       "        vertical-align: middle;\n",
       "    }\n",
       "\n",
       "    .dataframe tbody tr th {\n",
       "        vertical-align: top;\n",
       "    }\n",
       "\n",
       "    .dataframe thead th {\n",
       "        text-align: right;\n",
       "    }\n",
       "</style>\n",
       "<table border=\"1\" class=\"dataframe\">\n",
       "  <thead>\n",
       "    <tr style=\"text-align: right;\">\n",
       "      <th></th>\n",
       "      <th>cast</th>\n",
       "      <th>genres</th>\n",
       "      <th>title</th>\n",
       "      <th>year</th>\n",
       "    </tr>\n",
       "  </thead>\n",
       "  <tbody>\n",
       "    <tr>\n",
       "      <th>0</th>\n",
       "      <td>[Robin Dunne, Sarah Thompson, Keri Lynn Pratt, Amy Adams]</td>\n",
       "      <td>[Comedy, Drama]</td>\n",
       "      <td>Cruel Intentions 2</td>\n",
       "      <td>2001</td>\n",
       "    </tr>\n",
       "    <tr>\n",
       "      <th>1</th>\n",
       "      <td>[Leonardo DiCaprio, Tom Hanks, Christopher Walken, Amy Adams, Martin Sheen, Nathalie Baye, James Brolin]</td>\n",
       "      <td>[Comedy, Drama]</td>\n",
       "      <td>Catch Me If You Can</td>\n",
       "      <td>2002</td>\n",
       "    </tr>\n",
       "    <tr>\n",
       "      <th>2</th>\n",
       "      <td>[Embeth Davidtz, Alessandro Nivola, Scott Wilson, Celia Weston, Amy Adams]</td>\n",
       "      <td>[Drama]</td>\n",
       "      <td>Junebug</td>\n",
       "      <td>2005</td>\n",
       "    </tr>\n",
       "    <tr>\n",
       "      <th>3</th>\n",
       "      <td>[Amy Adams, Patrick Dempsey, James Marsden, Susan Sarandon]</td>\n",
       "      <td>[Fantasy]</td>\n",
       "      <td>Enchanted</td>\n",
       "      <td>2007</td>\n",
       "    </tr>\n",
       "    <tr>\n",
       "      <th>4</th>\n",
       "      <td>[Zach Braff, Amanda Peet, Jason Bateman, Charles Grodin, Mia Farrow, Donal Logue, Amy Poehler, Amy Adams, Fred Armisen]</td>\n",
       "      <td>[Romance, Comedy]</td>\n",
       "      <td>The Ex</td>\n",
       "      <td>2007</td>\n",
       "    </tr>\n",
       "    <tr>\n",
       "      <th>5</th>\n",
       "      <td>[Alex Neuberger, Amy Adams, Jason Lee]</td>\n",
       "      <td>[Superhero]</td>\n",
       "      <td>Underdog</td>\n",
       "      <td>2007</td>\n",
       "    </tr>\n",
       "    <tr>\n",
       "      <th>6</th>\n",
       "      <td>[Meryl Streep, Philip Seymour Hoffman, Amy Adams, Viola Davis]</td>\n",
       "      <td>[Drama]</td>\n",
       "      <td>Doubt</td>\n",
       "      <td>2008</td>\n",
       "    </tr>\n",
       "    <tr>\n",
       "      <th>7</th>\n",
       "      <td>[Meryl Streep, Amy Adams, Stanley Tucci, Chris Messina, Linda Emond]</td>\n",
       "      <td>[Biography, Romance, Comedy]</td>\n",
       "      <td>Julie &amp; Julia</td>\n",
       "      <td>2009</td>\n",
       "    </tr>\n",
       "    <tr>\n",
       "      <th>8</th>\n",
       "      <td>[Ben Stiller, Dick Van Dyke, Robin Williams, Amy Adams, Hank Azaria, Owen Wilson, Steve Coogan, Jonah Hill, Ricky Gervais]</td>\n",
       "      <td>[Adventure, Family]</td>\n",
       "      <td>Night at the Museum: Battle of the Smithsonian</td>\n",
       "      <td>2009</td>\n",
       "    </tr>\n",
       "    <tr>\n",
       "      <th>9</th>\n",
       "      <td>[Mark Wahlberg, Christian Bale, Amy Adams, Melissa Leo]</td>\n",
       "      <td>[Drama, Sports]</td>\n",
       "      <td>The Fighter</td>\n",
       "      <td>2010</td>\n",
       "    </tr>\n",
       "    <tr>\n",
       "      <th>10</th>\n",
       "      <td>[Amy Adams, Matthew Goode, Adam Scott, John Lithgow]</td>\n",
       "      <td>[Romance, Comedy]</td>\n",
       "      <td>Leap Year</td>\n",
       "      <td>2010</td>\n",
       "    </tr>\n",
       "    <tr>\n",
       "      <th>11</th>\n",
       "      <td>[Jason Segel, Amy Adams, Chris Cooper, Rashida Jones]</td>\n",
       "      <td>[Comedy, Musical]</td>\n",
       "      <td>The Muppets</td>\n",
       "      <td>2011</td>\n",
       "    </tr>\n",
       "    <tr>\n",
       "      <th>12</th>\n",
       "      <td>[Joaquin Phoenix, Philip Seymour Hoffman, Amy Adams, Laura Dern]</td>\n",
       "      <td>[Drama]</td>\n",
       "      <td>The Master</td>\n",
       "      <td>2012</td>\n",
       "    </tr>\n",
       "    <tr>\n",
       "      <th>13</th>\n",
       "      <td>[Clint Eastwood, Amy Adams, Justin Timberlake, and, John Goodman, Matthew Lillard, Scott Eastwood]</td>\n",
       "      <td>[Drama, Sports]</td>\n",
       "      <td>Trouble with the Curve</td>\n",
       "      <td>2012</td>\n",
       "    </tr>\n",
       "    <tr>\n",
       "      <th>14</th>\n",
       "      <td>[Christian Bale, Bradley Cooper, Amy Adams, Jeremy Renner, Jennifer Lawrence]</td>\n",
       "      <td>[Crime]</td>\n",
       "      <td>American Hustle</td>\n",
       "      <td>2013</td>\n",
       "    </tr>\n",
       "    <tr>\n",
       "      <th>15</th>\n",
       "      <td>[Joaquin Phoenix, Amy Adams, Rooney Mara, Scarlett Johansson, (voice)]</td>\n",
       "      <td>[Romance]</td>\n",
       "      <td>Her</td>\n",
       "      <td>2013</td>\n",
       "    </tr>\n",
       "    <tr>\n",
       "      <th>16</th>\n",
       "      <td>[Henry Cavill, Amy Adams, Michael Shannon, Kevin Costner, Diane Lane, Laurence Fishburne, Antje Traue, Ayelet Zurer, Russell Crowe]</td>\n",
       "      <td>[Superhero]</td>\n",
       "      <td>Man of Steel</td>\n",
       "      <td>2013</td>\n",
       "    </tr>\n",
       "    <tr>\n",
       "      <th>17</th>\n",
       "      <td>[Amy Adams, Garrett Hedlund, Terrence Howard]</td>\n",
       "      <td>[Drama]</td>\n",
       "      <td>Lullaby</td>\n",
       "      <td>2014</td>\n",
       "    </tr>\n",
       "    <tr>\n",
       "      <th>18</th>\n",
       "      <td>[Amy Adams, Christoph Waltz, Danny Huston, Terence Stamp]</td>\n",
       "      <td>[Drama]</td>\n",
       "      <td>Big Eyes</td>\n",
       "      <td>2014</td>\n",
       "    </tr>\n",
       "    <tr>\n",
       "      <th>19</th>\n",
       "      <td>[Henry Cavill, Ben Affleck, Amy Adams]</td>\n",
       "      <td>[Action]</td>\n",
       "      <td>Batman v Superman: Dawn of Justice</td>\n",
       "      <td>2016</td>\n",
       "    </tr>\n",
       "    <tr>\n",
       "      <th>20</th>\n",
       "      <td>[Ben Affleck, Henry Cavill, Gal Gadot, Jason Momoa, Ezra Miller, Ray Fisher, Amy Adams, Jesse Eisenberg, Amber Heard, Jeremy Irons, J. K. Simmons, Willem Dafoe, Julian Lewis Jones, Ciarán Hinds]</td>\n",
       "      <td>[Superhero, Action, Adventure, Fantasy, Science Fiction]</td>\n",
       "      <td>Justice League</td>\n",
       "      <td>2017</td>\n",
       "    </tr>\n",
       "    <tr>\n",
       "      <th>21</th>\n",
       "      <td>[Christian Bale, Amy Adams, Steve Carell, Sam Rockwell, Alison Pill, Jesse Plemons, Lily Rabe, Bill Pullman, Tyler Perry]</td>\n",
       "      <td>[Biography, Drama]</td>\n",
       "      <td>Vice</td>\n",
       "      <td>2018</td>\n",
       "    </tr>\n",
       "  </tbody>\n",
       "</table>\n",
       "</div>"
      ],
      "text/plain": [
       "                                                                                                                                                                                                  cast  \\\n",
       "0                                                                                                                                            [Robin Dunne, Sarah Thompson, Keri Lynn Pratt, Amy Adams]   \n",
       "1                                                                                             [Leonardo DiCaprio, Tom Hanks, Christopher Walken, Amy Adams, Martin Sheen, Nathalie Baye, James Brolin]   \n",
       "2                                                                                                                           [Embeth Davidtz, Alessandro Nivola, Scott Wilson, Celia Weston, Amy Adams]   \n",
       "3                                                                                                                                          [Amy Adams, Patrick Dempsey, James Marsden, Susan Sarandon]   \n",
       "4                                                                              [Zach Braff, Amanda Peet, Jason Bateman, Charles Grodin, Mia Farrow, Donal Logue, Amy Poehler, Amy Adams, Fred Armisen]   \n",
       "5                                                                                                                                                               [Alex Neuberger, Amy Adams, Jason Lee]   \n",
       "6                                                                                                                                       [Meryl Streep, Philip Seymour Hoffman, Amy Adams, Viola Davis]   \n",
       "7                                                                                                                                 [Meryl Streep, Amy Adams, Stanley Tucci, Chris Messina, Linda Emond]   \n",
       "8                                                                           [Ben Stiller, Dick Van Dyke, Robin Williams, Amy Adams, Hank Azaria, Owen Wilson, Steve Coogan, Jonah Hill, Ricky Gervais]   \n",
       "9                                                                                                                                              [Mark Wahlberg, Christian Bale, Amy Adams, Melissa Leo]   \n",
       "10                                                                                                                                                [Amy Adams, Matthew Goode, Adam Scott, John Lithgow]   \n",
       "11                                                                                                                                               [Jason Segel, Amy Adams, Chris Cooper, Rashida Jones]   \n",
       "12                                                                                                                                    [Joaquin Phoenix, Philip Seymour Hoffman, Amy Adams, Laura Dern]   \n",
       "13                                                                                                  [Clint Eastwood, Amy Adams, Justin Timberlake, and, John Goodman, Matthew Lillard, Scott Eastwood]   \n",
       "14                                                                                                                       [Christian Bale, Bradley Cooper, Amy Adams, Jeremy Renner, Jennifer Lawrence]   \n",
       "15                                                                                                                              [Joaquin Phoenix, Amy Adams, Rooney Mara, Scarlett Johansson, (voice)]   \n",
       "16                                                                 [Henry Cavill, Amy Adams, Michael Shannon, Kevin Costner, Diane Lane, Laurence Fishburne, Antje Traue, Ayelet Zurer, Russell Crowe]   \n",
       "17                                                                                                                                                       [Amy Adams, Garrett Hedlund, Terrence Howard]   \n",
       "18                                                                                                                                           [Amy Adams, Christoph Waltz, Danny Huston, Terence Stamp]   \n",
       "19                                                                                                                                                              [Henry Cavill, Ben Affleck, Amy Adams]   \n",
       "20  [Ben Affleck, Henry Cavill, Gal Gadot, Jason Momoa, Ezra Miller, Ray Fisher, Amy Adams, Jesse Eisenberg, Amber Heard, Jeremy Irons, J. K. Simmons, Willem Dafoe, Julian Lewis Jones, Ciarán Hinds]   \n",
       "21                                                                           [Christian Bale, Amy Adams, Steve Carell, Sam Rockwell, Alison Pill, Jesse Plemons, Lily Rabe, Bill Pullman, Tyler Perry]   \n",
       "\n",
       "                                                      genres  \\\n",
       "0                                            [Comedy, Drama]   \n",
       "1                                            [Comedy, Drama]   \n",
       "2                                                    [Drama]   \n",
       "3                                                  [Fantasy]   \n",
       "4                                          [Romance, Comedy]   \n",
       "5                                                [Superhero]   \n",
       "6                                                    [Drama]   \n",
       "7                               [Biography, Romance, Comedy]   \n",
       "8                                        [Adventure, Family]   \n",
       "9                                            [Drama, Sports]   \n",
       "10                                         [Romance, Comedy]   \n",
       "11                                         [Comedy, Musical]   \n",
       "12                                                   [Drama]   \n",
       "13                                           [Drama, Sports]   \n",
       "14                                                   [Crime]   \n",
       "15                                                 [Romance]   \n",
       "16                                               [Superhero]   \n",
       "17                                                   [Drama]   \n",
       "18                                                   [Drama]   \n",
       "19                                                  [Action]   \n",
       "20  [Superhero, Action, Adventure, Fantasy, Science Fiction]   \n",
       "21                                        [Biography, Drama]   \n",
       "\n",
       "                                             title  year  \n",
       "0                               Cruel Intentions 2  2001  \n",
       "1                              Catch Me If You Can  2002  \n",
       "2                                          Junebug  2005  \n",
       "3                                        Enchanted  2007  \n",
       "4                                           The Ex  2007  \n",
       "5                                         Underdog  2007  \n",
       "6                                            Doubt  2008  \n",
       "7                                    Julie & Julia  2009  \n",
       "8   Night at the Museum: Battle of the Smithsonian  2009  \n",
       "9                                      The Fighter  2010  \n",
       "10                                       Leap Year  2010  \n",
       "11                                     The Muppets  2011  \n",
       "12                                      The Master  2012  \n",
       "13                          Trouble with the Curve  2012  \n",
       "14                                 American Hustle  2013  \n",
       "15                                             Her  2013  \n",
       "16                                    Man of Steel  2013  \n",
       "17                                         Lullaby  2014  \n",
       "18                                        Big Eyes  2014  \n",
       "19              Batman v Superman: Dawn of Justice  2016  \n",
       "20                                  Justice League  2017  \n",
       "21                                            Vice  2018  "
      ]
     },
     "execution_count": 8,
     "metadata": {},
     "output_type": "execute_result"
    }
   ],
   "source": [
    "df.filter(array_contains(df['cast'], 'Amy Adams')).toPandas()"
   ]
  },
  {
   "cell_type": "markdown",
   "metadata": {},
   "source": [
    "### f. Check whether Tom Cruise participated in any documentary movies. If no, return false. If yes, return the list of movies (only names enough)"
   ]
  },
  {
   "cell_type": "code",
   "execution_count": 9,
   "metadata": {},
   "outputs": [
    {
     "name": "stdout",
     "output_type": "stream",
     "text": [
      "Tom Cruise say no with Documentaries\n"
     ]
    }
   ],
   "source": [
    "tom_cruise_documentary = df.where(\n",
    "    array_contains(df['cast'], 'Tom Cruise')\\\n",
    "    & array_contains(df['genres'], 'Documentary')\n",
    ").toPandas()\n",
    "if not tom_cruise_documentary.empty:\n",
    "    tom_cruise_documentary['title']\n",
    "else:\n",
    "    print (\"Tom Cruise say no with Documentaries\")"
   ]
  },
  {
   "cell_type": "markdown",
   "metadata": {},
   "source": [
    "### g. Sort the movies following the descending order of the number of actors/actresses participated and then show the top 5 movies"
   ]
  },
  {
   "cell_type": "code",
   "execution_count": 10,
   "metadata": {},
   "outputs": [
    {
     "data": {
      "text/html": [
       "<div>\n",
       "<style scoped>\n",
       "    .dataframe tbody tr th:only-of-type {\n",
       "        vertical-align: middle;\n",
       "    }\n",
       "\n",
       "    .dataframe tbody tr th {\n",
       "        vertical-align: top;\n",
       "    }\n",
       "\n",
       "    .dataframe thead th {\n",
       "        text-align: right;\n",
       "    }\n",
       "</style>\n",
       "<table border=\"1\" class=\"dataframe\">\n",
       "  <thead>\n",
       "    <tr style=\"text-align: right;\">\n",
       "      <th></th>\n",
       "      <th>cast</th>\n",
       "      <th>genres</th>\n",
       "      <th>title</th>\n",
       "      <th>year</th>\n",
       "    </tr>\n",
       "  </thead>\n",
       "  <tbody>\n",
       "    <tr>\n",
       "      <th>0</th>\n",
       "      <td>[Kristen Stewart, Robert Pattinson, Taylor Lautner, Nikki Reed, Peter Facinelli, Elizabeth Reaser, Ashley Greene, Kellan Lutz, Jackson Rathbone, Julia Jones, Booboo Stewart, Billy Burke, Sarah Cla...</td>\n",
       "      <td>[Fantasy, Romance]</td>\n",
       "      <td>The Twilight Saga: Breaking Dawn - Part 2</td>\n",
       "      <td>2012</td>\n",
       "    </tr>\n",
       "    <tr>\n",
       "      <th>1</th>\n",
       "      <td>[Will Ferrell, Christina Applegate, Paul Rudd, David Koechner, Steve Carell, Kristen Wiig, James Marsden, Dylan Baker, Meagan Good, Harrison Ford, Greg Kinnear, Josh Lawson, Vince Vaughn, Luke Wil...</td>\n",
       "      <td>[Comedy]</td>\n",
       "      <td>Anchorman 2: The Legend Continues</td>\n",
       "      <td>2013</td>\n",
       "    </tr>\n",
       "    <tr>\n",
       "      <th>2</th>\n",
       "      <td>[Owen Wilson, Larry the Cable Guy, Michael Caine, Emily Mortimer, Eddie Izzard, Jason Isaacs, Thomas Kretschmann, Joe Mantegna, Peter Jacobson, Tony Shalhoub, Guido Quaroni, Paul Dooley, John Ratz...</td>\n",
       "      <td>[Animated, Family, Spy]</td>\n",
       "      <td>Cars 2</td>\n",
       "      <td>2011</td>\n",
       "    </tr>\n",
       "    <tr>\n",
       "      <th>3</th>\n",
       "      <td>[Neil Patrick Harris, Jayma Mays, George Lopez, (voice), Katy Perry, (voice), Hank Azaria, Sofía Vergara, Alan Cumming, (voice), Jonathan Winters, (voice), Anton Yelchin, (voice), Paul Reubens, (v...</td>\n",
       "      <td>[Family, Live Action]</td>\n",
       "      <td>The Smurfs</td>\n",
       "      <td>2011</td>\n",
       "    </tr>\n",
       "    <tr>\n",
       "      <th>4</th>\n",
       "      <td>[Robert Downey Jr., Chris Hemsworth, Mark Ruffalo, Chris Evans, Scarlett Johansson, Benedict Cumberbatch, Don Cheadle, Tom Holland, Chadwick Boseman, Paul Bettany, Elizabeth Olsen, Anthony Mackie,...</td>\n",
       "      <td>[Superhero, Action, Adventure]</td>\n",
       "      <td>Avengers: Infinity War</td>\n",
       "      <td>2018</td>\n",
       "    </tr>\n",
       "  </tbody>\n",
       "</table>\n",
       "</div>"
      ],
      "text/plain": [
       "                                                                                                                                                                                                      cast  \\\n",
       "0  [Kristen Stewart, Robert Pattinson, Taylor Lautner, Nikki Reed, Peter Facinelli, Elizabeth Reaser, Ashley Greene, Kellan Lutz, Jackson Rathbone, Julia Jones, Booboo Stewart, Billy Burke, Sarah Cla...   \n",
       "1  [Will Ferrell, Christina Applegate, Paul Rudd, David Koechner, Steve Carell, Kristen Wiig, James Marsden, Dylan Baker, Meagan Good, Harrison Ford, Greg Kinnear, Josh Lawson, Vince Vaughn, Luke Wil...   \n",
       "2  [Owen Wilson, Larry the Cable Guy, Michael Caine, Emily Mortimer, Eddie Izzard, Jason Isaacs, Thomas Kretschmann, Joe Mantegna, Peter Jacobson, Tony Shalhoub, Guido Quaroni, Paul Dooley, John Ratz...   \n",
       "3  [Neil Patrick Harris, Jayma Mays, George Lopez, (voice), Katy Perry, (voice), Hank Azaria, Sofía Vergara, Alan Cumming, (voice), Jonathan Winters, (voice), Anton Yelchin, (voice), Paul Reubens, (v...   \n",
       "4  [Robert Downey Jr., Chris Hemsworth, Mark Ruffalo, Chris Evans, Scarlett Johansson, Benedict Cumberbatch, Don Cheadle, Tom Holland, Chadwick Boseman, Paul Bettany, Elizabeth Olsen, Anthony Mackie,...   \n",
       "\n",
       "                           genres                                      title  \\\n",
       "0              [Fantasy, Romance]  The Twilight Saga: Breaking Dawn - Part 2   \n",
       "1                        [Comedy]          Anchorman 2: The Legend Continues   \n",
       "2         [Animated, Family, Spy]                                     Cars 2   \n",
       "3           [Family, Live Action]                                 The Smurfs   \n",
       "4  [Superhero, Action, Adventure]                     Avengers: Infinity War   \n",
       "\n",
       "   year  \n",
       "0  2012  \n",
       "1  2013  \n",
       "2  2011  \n",
       "3  2011  \n",
       "4  2018  "
      ]
     },
     "execution_count": 10,
     "metadata": {},
     "output_type": "execute_result"
    }
   ],
   "source": [
    "df.sort(size(df['cast']).desc()).toPandas().head(5)"
   ]
  },
  {
   "cell_type": "markdown",
   "metadata": {},
   "source": [
    "### h. List all the genres of movies that Emma Roberts participated"
   ]
  },
  {
   "cell_type": "code",
   "execution_count": 19,
   "metadata": {},
   "outputs": [
    {
     "name": "stdout",
     "output_type": "stream",
     "text": [
      "+---------+\n",
      "| d_genres|\n",
      "+---------+\n",
      "| Thriller|\n",
      "|  Fantasy|\n",
      "|    Crime|\n",
      "|   Comedy|\n",
      "|    Drama|\n",
      "|   Horror|\n",
      "|  Romance|\n",
      "|     Teen|\n",
      "|Biography|\n",
      "|   Family|\n",
      "+---------+\n",
      "\n"
     ]
    }
   ],
   "source": [
    "emma_movies = df.where(array_contains(df['cast'], 'Emma Roberts'))\\\n",
    "    .withColumn('genres', explode(df['genres']))\n",
    "emma_genres = emma_movies.agg(collect_set('genres').alias('d_genres'))\n",
    "emma_genres.withColumn('d_genres', explode(emma_genres['d_genres'])).show()"
   ]
  },
  {
   "cell_type": "markdown",
   "metadata": {},
   "source": [
    "### i. Count the number of genres in the dataset"
   ]
  },
  {
   "cell_type": "code",
   "execution_count": 25,
   "metadata": {},
   "outputs": [
    {
     "data": {
      "text/plain": [
       "41"
      ]
     },
     "execution_count": 25,
     "metadata": {},
     "output_type": "execute_result"
    }
   ],
   "source": [
    "df.withColumn('genres', explode(df['genres']))\\\n",
    "    .agg(collect_set('genres').alias('all_genres'))\\\n",
    "    .withColumn('all_genres', explode(col('all_genres')))\\\n",
    "    .count()"
   ]
  },
  {
   "cell_type": "markdown",
   "metadata": {},
   "source": [
    "### j. Determine the year with highest number of actors/actresses participated"
   ]
  },
  {
   "cell_type": "code",
   "execution_count": 119,
   "metadata": {},
   "outputs": [
    {
     "name": "stdout",
     "output_type": "stream",
     "text": [
      "+----+--------+\n",
      "|year|sum_cast|\n",
      "+----+--------+\n",
      "|2012|    2293|\n",
      "+----+--------+\n",
      "\n"
     ]
    }
   ],
   "source": [
    "df.withColumn('cast', explode(col('cast')))\\\n",
    "    .groupBy('year')\\\n",
    "    .agg(count('cast').alias('sum_cast'))\\\n",
    "    .orderBy(col('sum_cast').desc())\\\n",
    "    .limit(1)\\\n",
    "    .show()"
   ]
  }
 ],
 "metadata": {
  "file_extension": ".py",
  "kernelspec": {
   "display_name": "'Python Interactive'",
   "language": "python",
   "name": "17bb6c4e-7b27-47f8-9025-8bf33f055eda"
  },
  "language_info": {
   "codemirror_mode": {
    "name": "ipython",
    "version": 3
   },
   "file_extension": ".py",
   "mimetype": "text/x-python",
   "name": "python",
   "nbconvert_exporter": "python",
   "pygments_lexer": "ipython3",
   "version": "3.7.3"
  },
  "mimetype": "text/x-python",
  "name": "python",
  "npconvert_exporter": "python",
  "pygments_lexer": "ipython3",
  "version": 3
 },
 "nbformat": 4,
 "nbformat_minor": 2
}
