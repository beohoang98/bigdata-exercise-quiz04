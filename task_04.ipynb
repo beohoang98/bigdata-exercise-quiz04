{
 "cells": [
  {
   "cell_type": "code",
   "execution_count": 2,
   "metadata": {},
   "outputs": [
    {
     "name": "stdout",
     "output_type": "stream",
     "text": [
      "/home/noobcoder/0_Project/school/BigData/DemoNov29\n"
     ]
    }
   ],
   "source": [
    "import findspark\n",
    "findspark.init()\n",
    "\n",
    "import os\n",
    "PROJECT_HOME = os.path.abspath(os.curdir)\n",
    "print(PROJECT_HOME)\n",
    "\n",
    "import pandas as pd\n",
    "from pyspark.sql import SparkSession\n",
    "import pyspark.sql.functions as F\n",
    "from pyspark.ml.feature import StringIndexer, VectorAssembler\n",
    "from pyspark.ml.pipeline import Pipeline\n",
    "from pyspark.ml.classification import DecisionTreeClassifier\n",
    "from pyspark.ml.evaluation import MulticlassClassificationEvaluator"
   ]
  },
  {
   "cell_type": "code",
   "execution_count": 3,
   "metadata": {},
   "outputs": [],
   "source": [
    "pd.set_option('display.max_colwidth', 500)"
   ]
  },
  {
   "cell_type": "code",
   "execution_count": 4,
   "metadata": {},
   "outputs": [],
   "source": [
    "SPARK_MASTER_HOST = os.environ.get('SPARK_MASTER_HOST', 'localhost')\n",
    "sc = SparkSession.builder\\\n",
    "    .master(f'spark://{SPARK_MASTER_HOST}:7077')\\\n",
    "    .appName('Quiz04_4')\\\n",
    "    .config('spark.executor.memory', '512m')\\\n",
    "    .config('spark.jars.packages', 'julioasotodv:spark-tree-plotting:0.2')\\\n",
    "    .getOrCreate()"
   ]
  },
  {
   "cell_type": "markdown",
   "metadata": {},
   "source": [
    "# Task 04: Classification with decision trees"
   ]
  },
  {
   "cell_type": "markdown",
   "metadata": {},
   "source": [
    "## Load data"
   ]
  },
  {
   "cell_type": "code",
   "execution_count": 5,
   "metadata": {},
   "outputs": [
    {
     "name": "stdout",
     "output_type": "stream",
     "text": [
      "root\n",
      " |-- outlook: string (nullable = true)\n",
      " |-- temperature: string (nullable = true)\n",
      " |-- humidity: string (nullable = true)\n",
      " |-- windy: boolean (nullable = true)\n",
      " |-- play: string (nullable = true)\n",
      "\n"
     ]
    },
    {
     "data": {
      "text/plain": [
       "14"
      ]
     },
     "execution_count": 5,
     "metadata": {},
     "output_type": "execute_result"
    }
   ],
   "source": [
    "data = sc.read.csv(f'file://{PROJECT_HOME}/data/weather.csv', sep=',', inferSchema=True, header=True)\n",
    "data.printSchema()\n",
    "data.count()"
   ]
  },
  {
   "cell_type": "markdown",
   "metadata": {},
   "source": [
    "## STRING INDEXER DATA"
   ]
  },
  {
   "cell_type": "code",
   "execution_count": 6,
   "metadata": {},
   "outputs": [],
   "source": [
    "outlookIndexer = StringIndexer(inputCol='outlook', outputCol='outlook_idx').fit(data)\n",
    "tempIndexer = StringIndexer(inputCol='temperature', outputCol='temp_idx').fit(data)\n",
    "playIndexer = StringIndexer(inputCol='play', outputCol='play_idx').fit(data)\n",
    "\n",
    "featureVectorer = VectorAssembler(\n",
    "    inputCols=['outlook_idx', 'temp_idx', 'windy'],\n",
    "    outputCol='featureIndexed'\n",
    ")"
   ]
  },
  {
   "cell_type": "markdown",
   "metadata": {},
   "source": [
    "## Decision Tree for weather data"
   ]
  },
  {
   "cell_type": "code",
   "execution_count": 7,
   "metadata": {},
   "outputs": [],
   "source": [
    "tree = DecisionTreeClassifier(featuresCol='featureIndexed', labelCol='play_idx', maxBins=10)"
   ]
  },
  {
   "cell_type": "markdown",
   "metadata": {},
   "source": [
    "## TRAIN MODEL"
   ]
  },
  {
   "cell_type": "code",
   "execution_count": 8,
   "metadata": {},
   "outputs": [],
   "source": [
    "(training, testing) = data.randomSplit([0.7, 0.3])\n",
    "\n",
    "pipeline = Pipeline(stages=[\n",
    "    outlookIndexer,\n",
    "    tempIndexer,\n",
    "    playIndexer,\n",
    "    featureVectorer,\n",
    "    tree,\n",
    "])\n",
    "\n",
    "model = pipeline.fit(training)\n",
    "predictions = model.transform(testing)"
   ]
  },
  {
   "cell_type": "markdown",
   "metadata": {},
   "source": [
    "## SHOW PREDICTIONS"
   ]
  },
  {
   "cell_type": "code",
   "execution_count": 9,
   "metadata": {},
   "outputs": [
    {
     "name": "stdout",
     "output_type": "stream",
     "text": [
      "Test Error = 0.7\n",
      "+----+--------+----------+\n",
      "|play|play_idx|prediction|\n",
      "+----+--------+----------+\n",
      "| yes|     0.0|       0.0|\n",
      "|  no|     1.0|       0.0|\n",
      "| yes|     0.0|       1.0|\n",
      "| yes|     0.0|       1.0|\n",
      "+----+--------+----------+\n",
      "\n"
     ]
    }
   ],
   "source": [
    "# Select (prediction, true label) and compute test error\n",
    "evaluator = MulticlassClassificationEvaluator(\n",
    "    labelCol=\"play_idx\", predictionCol=\"prediction\")\n",
    "accuracy = evaluator.evaluate(predictions)\n",
    "print (f\"Test Error = { 1.0 - accuracy }\")\n",
    "\n",
    "predictions\\\n",
    "    .select(['play', 'play_idx', 'prediction'])\\\n",
    "    .show(10)"
   ]
  },
  {
   "cell_type": "code",
   "execution_count": 18,
   "metadata": {},
   "outputs": [
    {
     "ename": "SyntaxError",
     "evalue": "invalid syntax (<ipython-input-18-f630588a0525>, line 6)",
     "output_type": "error",
     "traceback": [
      "\u001b[0;36m  File \u001b[0;32m\"<ipython-input-18-f630588a0525>\"\u001b[0;36m, line \u001b[0;32m6\u001b[0m\n\u001b[0;31m    classNames=model.stages[2].labels,,\u001b[0m\n\u001b[0m                                      ^\u001b[0m\n\u001b[0;31mSyntaxError\u001b[0m\u001b[0;31m:\u001b[0m invalid syntax\n"
     ]
    }
   ],
   "source": [
    "treeModel = model.stages[len(model.stages) - 1]\n",
    "print (treeModel.toDebugString)\n",
    "from spark_tree_plotting import plot_tree\n",
    "png = plot_tree(\n",
    "    treeModel,\n",
    "    classNames=model.stages[2].labels,\n",
    "    featureNames=['outlook_idx', 'temp_idx', 'windy'],\n",
    "    categoryNames={\n",
    "        'outlook_idx': model.stages[0].labels,\n",
    "        'temp_idx': model.stages[1].labels,\n",
    "    },\n",
    "    filled=True,\n",
    "    roundedCorners=True,\n",
    "    roundLeaves=True\n",
    ")\n",
    "\n",
    "from IPython.display import Image\n",
    "Image(png)"
   ]
  }
 ],
 "metadata": {
  "file_extension": ".py",
  "kernelspec": {
   "display_name": "'Python Interactive'",
   "language": "python",
   "name": "796a132a-10fa-4244-9a79-f5a98980003f"
  },
  "language_info": {
   "codemirror_mode": {
    "name": "ipython",
    "version": 3
   },
   "file_extension": ".py",
   "mimetype": "text/x-python",
   "name": "python",
   "nbconvert_exporter": "python",
   "pygments_lexer": "ipython3",
   "version": "3.7.3"
  },
  "mimetype": "text/x-python",
  "name": "python",
  "npconvert_exporter": "python",
  "pygments_lexer": "ipython3",
  "version": 3
 },
 "nbformat": 4,
 "nbformat_minor": 4
}
